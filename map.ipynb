{
 "cells": [
  {
   "cell_type": "code",
   "execution_count": 13,
   "metadata": {},
   "outputs": [],
   "source": [
    "# General\n",
    "import numpy\n",
    "import os\n",
    "\n",
    "# Processing\n",
    "import pandas as pd\n",
    "\n",
    "# Drawing\n",
    "import cartopy\n",
    "import matplotlib.pyplot as plt\n",
    "import cartopy.crs as ccrs\n",
    "from cartopy.io import shapereader"
   ]
  },
  {
   "cell_type": "markdown",
   "metadata": {},
   "source": [
    "# Processing Data"
   ]
  },
  {
   "cell_type": "code",
   "execution_count": 14,
   "metadata": {},
   "outputs": [
    {
     "data": {
      "text/html": [
       "<div>\n",
       "<style scoped>\n",
       "    .dataframe tbody tr th:only-of-type {\n",
       "        vertical-align: middle;\n",
       "    }\n",
       "\n",
       "    .dataframe tbody tr th {\n",
       "        vertical-align: top;\n",
       "    }\n",
       "\n",
       "    .dataframe thead th {\n",
       "        text-align: right;\n",
       "    }\n",
       "</style>\n",
       "<table border=\"1\" class=\"dataframe\">\n",
       "  <thead>\n",
       "    <tr style=\"text-align: right;\">\n",
       "      <th></th>\n",
       "      <th>Date</th>\n",
       "      <th>Division Letter</th>\n",
       "      <th>SD Letter</th>\n",
       "      <th>Area Commands</th>\n",
       "      <th>Asked / Informed</th>\n",
       "      <th>Warned / Instructed</th>\n",
       "      <th>Removed from Place or Premises</th>\n",
       "      <th>FPN</th>\n",
       "      <th>Arrested</th>\n",
       "    </tr>\n",
       "  </thead>\n",
       "  <tbody>\n",
       "    <tr>\n",
       "      <th>0</th>\n",
       "      <td>2020-03-27</td>\n",
       "      <td>A</td>\n",
       "      <td>AE</td>\n",
       "      <td>Moray</td>\n",
       "      <td>3</td>\n",
       "      <td>1</td>\n",
       "      <td>0</td>\n",
       "      <td>0</td>\n",
       "      <td>0</td>\n",
       "    </tr>\n",
       "    <tr>\n",
       "      <th>1</th>\n",
       "      <td>2020-03-27</td>\n",
       "      <td>G</td>\n",
       "      <td>GA</td>\n",
       "      <td>Glasgow South West</td>\n",
       "      <td>17</td>\n",
       "      <td>0</td>\n",
       "      <td>0</td>\n",
       "      <td>0</td>\n",
       "      <td>0</td>\n",
       "    </tr>\n",
       "    <tr>\n",
       "      <th>2</th>\n",
       "      <td>2020-03-27</td>\n",
       "      <td>J</td>\n",
       "      <td>JB</td>\n",
       "      <td>Scottish Borders</td>\n",
       "      <td>2</td>\n",
       "      <td>2</td>\n",
       "      <td>0</td>\n",
       "      <td>0</td>\n",
       "      <td>0</td>\n",
       "    </tr>\n",
       "    <tr>\n",
       "      <th>3</th>\n",
       "      <td>2020-03-27</td>\n",
       "      <td>L</td>\n",
       "      <td>LA</td>\n",
       "      <td>West Dumbartonshire</td>\n",
       "      <td>12</td>\n",
       "      <td>0</td>\n",
       "      <td>1</td>\n",
       "      <td>1</td>\n",
       "      <td>0</td>\n",
       "    </tr>\n",
       "    <tr>\n",
       "      <th>4</th>\n",
       "      <td>2020-03-27</td>\n",
       "      <td>N</td>\n",
       "      <td>NaN</td>\n",
       "      <td>Inverness</td>\n",
       "      <td>1</td>\n",
       "      <td>0</td>\n",
       "      <td>0</td>\n",
       "      <td>0</td>\n",
       "      <td>0</td>\n",
       "    </tr>\n",
       "  </tbody>\n",
       "</table>\n",
       "</div>"
      ],
      "text/plain": [
       "        Date Division Letter SD Letter        Area Commands  Asked / Informed  \\\n",
       "0 2020-03-27               A        AE                Moray                 3   \n",
       "1 2020-03-27               G        GA   Glasgow South West                17   \n",
       "2 2020-03-27               J        JB     Scottish Borders                 2   \n",
       "3 2020-03-27               L        LA  West Dumbartonshire                12   \n",
       "4 2020-03-27               N       NaN            Inverness                 1   \n",
       "\n",
       "   Warned / Instructed  Removed from Place or Premises  FPN  Arrested  \n",
       "0                    1                               0    0         0  \n",
       "1                    0                               0    0         0  \n",
       "2                    2                               0    0         0  \n",
       "3                    0                               1    1         0  \n",
       "4                    0                               0    0         0  "
      ]
     },
     "execution_count": 14,
     "metadata": {},
     "output_type": "execute_result"
    }
   ],
   "source": [
    "raw_data = pd.read_excel(os.path.join(os.getcwd(), 'datasets', 'coronavirus-enforcement-information-to-9-june-2021.xlsx'), sheet_name=1)\n",
    "raw_data.drop(['Unnamed: 9', 'Unnamed: 10', 'Unnamed: 11', 'Unnamed: 12', 'Unnamed: 13', 'Unnamed: 14', 'Unnamed: 15', 'Unnamed: 16', 'Unnamed: 17'], axis=1, inplace=True)\n",
    "raw_data.head()"
   ]
  },
  {
   "cell_type": "code",
   "execution_count": 34,
   "metadata": {},
   "outputs": [],
   "source": [
    "# Taking account of NaNs\n",
    "# Explanation:\n",
    "# The xlsx to pandas dataframe conversion seems to have taken \"NA\" for a division \"N\" and an Area Command \"Inverness\"\n",
    "# and interpret that \"NA\" as actually: \"NaN\". Which is very annoying. So the below overwrites the SD letter of area commands\n",
    "# that are inverness and turns them back to \"NA\"\n",
    "raw_data.loc[raw_data[\"Area Commands\"] == \"Inverness\", \"SD Letter\"] = raw_data[\"SD Letter\"].fillna(\"NA\")"
   ]
  },
  {
   "cell_type": "code",
   "execution_count": 35,
   "metadata": {},
   "outputs": [
    {
     "data": {
      "text/plain": [
       "0"
      ]
     },
     "execution_count": 35,
     "metadata": {},
     "output_type": "execute_result"
    }
   ],
   "source": [
    "raw_data.isnull().sum().sum()"
   ]
  },
  {
   "cell_type": "code",
   "execution_count": 36,
   "metadata": {},
   "outputs": [
    {
     "data": {
      "text/html": [
       "<div>\n",
       "<style scoped>\n",
       "    .dataframe tbody tr th:only-of-type {\n",
       "        vertical-align: middle;\n",
       "    }\n",
       "\n",
       "    .dataframe tbody tr th {\n",
       "        vertical-align: top;\n",
       "    }\n",
       "\n",
       "    .dataframe thead th {\n",
       "        text-align: right;\n",
       "    }\n",
       "</style>\n",
       "<table border=\"1\" class=\"dataframe\">\n",
       "  <thead>\n",
       "    <tr style=\"text-align: right;\">\n",
       "      <th></th>\n",
       "      <th>Date</th>\n",
       "      <th>Division Letter</th>\n",
       "      <th>SD Letter</th>\n",
       "      <th>Area Commands</th>\n",
       "      <th>Asked / Informed</th>\n",
       "      <th>Warned / Instructed</th>\n",
       "      <th>Removed from Place or Premises</th>\n",
       "      <th>FPN</th>\n",
       "      <th>Arrested</th>\n",
       "    </tr>\n",
       "  </thead>\n",
       "  <tbody>\n",
       "    <tr>\n",
       "      <th>0</th>\n",
       "      <td>2020-03-27</td>\n",
       "      <td>A</td>\n",
       "      <td>AE</td>\n",
       "      <td>Moray</td>\n",
       "      <td>3</td>\n",
       "      <td>1</td>\n",
       "      <td>0</td>\n",
       "      <td>0</td>\n",
       "      <td>0</td>\n",
       "    </tr>\n",
       "    <tr>\n",
       "      <th>1</th>\n",
       "      <td>2020-03-27</td>\n",
       "      <td>G</td>\n",
       "      <td>GA</td>\n",
       "      <td>Glasgow South West</td>\n",
       "      <td>17</td>\n",
       "      <td>0</td>\n",
       "      <td>0</td>\n",
       "      <td>0</td>\n",
       "      <td>0</td>\n",
       "    </tr>\n",
       "    <tr>\n",
       "      <th>2</th>\n",
       "      <td>2020-03-27</td>\n",
       "      <td>J</td>\n",
       "      <td>JB</td>\n",
       "      <td>Scottish Borders</td>\n",
       "      <td>2</td>\n",
       "      <td>2</td>\n",
       "      <td>0</td>\n",
       "      <td>0</td>\n",
       "      <td>0</td>\n",
       "    </tr>\n",
       "    <tr>\n",
       "      <th>3</th>\n",
       "      <td>2020-03-27</td>\n",
       "      <td>L</td>\n",
       "      <td>LA</td>\n",
       "      <td>West Dumbartonshire</td>\n",
       "      <td>12</td>\n",
       "      <td>0</td>\n",
       "      <td>1</td>\n",
       "      <td>1</td>\n",
       "      <td>0</td>\n",
       "    </tr>\n",
       "    <tr>\n",
       "      <th>4</th>\n",
       "      <td>2020-03-27</td>\n",
       "      <td>N</td>\n",
       "      <td>NA</td>\n",
       "      <td>Inverness</td>\n",
       "      <td>1</td>\n",
       "      <td>0</td>\n",
       "      <td>0</td>\n",
       "      <td>0</td>\n",
       "      <td>0</td>\n",
       "    </tr>\n",
       "  </tbody>\n",
       "</table>\n",
       "</div>"
      ],
      "text/plain": [
       "        Date Division Letter SD Letter        Area Commands  Asked / Informed  \\\n",
       "0 2020-03-27               A        AE                Moray                 3   \n",
       "1 2020-03-27               G        GA   Glasgow South West                17   \n",
       "2 2020-03-27               J        JB     Scottish Borders                 2   \n",
       "3 2020-03-27               L        LA  West Dumbartonshire                12   \n",
       "4 2020-03-27               N        NA            Inverness                 1   \n",
       "\n",
       "   Warned / Instructed  Removed from Place or Premises  FPN  Arrested  \n",
       "0                    1                               0    0         0  \n",
       "1                    0                               0    0         0  \n",
       "2                    2                               0    0         0  \n",
       "3                    0                               1    1         0  \n",
       "4                    0                               0    0         0  "
      ]
     },
     "execution_count": 36,
     "metadata": {},
     "output_type": "execute_result"
    }
   ],
   "source": [
    "raw_data.head()"
   ]
  },
  {
   "cell_type": "code",
   "execution_count": 22,
   "metadata": {},
   "outputs": [
    {
     "name": "stderr",
     "output_type": "stream",
     "text": [
      "<ipython-input-22-72f7cafc7694>:2: SettingWithCopyWarning: \n",
      "A value is trying to be set on a copy of a slice from a DataFrame.\n",
      "Try using .loc[row_indexer,col_indexer] = value instead\n",
      "\n",
      "See the caveats in the documentation: https://pandas.pydata.org/pandas-docs/stable/user_guide/indexing.html#returning-a-view-versus-a-copy\n",
      "  df1['SD Letter'] = df1['SD Letter'].fillna(\"NA\")\n"
     ]
    },
    {
     "data": {
      "text/plain": [
       "0"
      ]
     },
     "execution_count": 22,
     "metadata": {},
     "output_type": "execute_result"
    }
   ],
   "source": [
    "df1 = raw_data[raw_data.isna().any(axis=1)]\n",
    "df1['SD Letter'] = df1['SD Letter'].fillna(\"NA\")\n",
    "df1.isna().sum().sum()\n",
    "#print (df1)"
   ]
  },
  {
   "cell_type": "markdown",
   "metadata": {},
   "source": [
    "## Group by Division - across all time"
   ]
  },
  {
   "cell_type": "code",
   "execution_count": null,
   "metadata": {},
   "outputs": [],
   "source": []
  },
  {
   "cell_type": "markdown",
   "metadata": {},
   "source": [
    "# Drawing Data"
   ]
  },
  {
   "cell_type": "code",
   "execution_count": null,
   "metadata": {},
   "outputs": [
    {
     "data": {
      "text/plain": [
       "[]"
      ]
     },
     "execution_count": 4,
     "metadata": {},
     "output_type": "execute_result"
    },
    {
     "data": {
      "image/png": "[encoded data removed]",
      "text/plain": [
       "<Figure size 600x800 with 1 Axes>"
      ]
     },
     "metadata": {
      "needs_background": "light"
     },
     "output_type": "display_data"
    }
   ],
   "source": [
    "# Creating new figure and axes instances\n",
    "fig = plt.figure(figsize=(6,8), dpi=100)\n",
    "projectionPARAM = ccrs.TransverseMercator(central_longitude=-2.0, central_latitude=49.0, false_easting=400000.0, false_northing=-100000.0, scale_factor=0.9996012717, approx=False)\n",
    "ax = fig.add_subplot(1, 1, 1, projection=projectionPARAM)\n",
    "ax.set_extent([-8, 0, 54.5, 61]) # Ideal coordinate map range for plotting Scotland\n",
    "\n",
    "# Downloaded from: https://spatialdata.gov.scot/geonetwork/srv/eng/catalog.search;jsessionid=61F713CF39B3EE2F440F48E9C31BA806#/metadata/4364af71-167a-4236-b5a0-bd4109913231\n",
    "area_file = os.path.join(os.getcwd(), 'datasets', 'ScottishPoliceDivisions', 'SG_ScottishPoliceDivisions_2019.shp')\n",
    "police_divisions = shapereader.Reader(area_file)\n",
    "\n",
    "for record in police_divisions.records():\n",
    "    name = record.attributes['PDivName']\n",
    "    ax.add_geometries(\n",
    "            [record.geometry],\n",
    "            facecolor=numpy.random.rand(3,),\n",
    "            linewidth=0,\n",
    "            crs=projectionPARAM,\n",
    "    )\n",
    "\n",
    "plt.plot()\n",
    "\n",
    "###\n",
    "# Copyright Scottish Government, contains Ordnance Survey data © Crown copyright and database right (2021)\n",
    "###"
   ]
  }
 ],
 "metadata": {
  "interpreter": {
   "hash": "a3421dfbf39879553a50d77fa405f8d7a9520a085503d9b274f6fe5ccc78625c"
  },
  "kernelspec": {
   "display_name": "Python 3.9.2 64-bit ('MAIN': conda)",
   "name": "python3"
  },
  "language_info": {
   "codemirror_mode": {
    "name": "ipython",
    "version": 3
   },
   "file_extension": ".py",
   "mimetype": "text/x-python",
   "name": "python",
   "nbconvert_exporter": "python",
   "pygments_lexer": "ipython3",
   "version": "3.9.2"
  },
  "orig_nbformat": 4
 },
 "nbformat": 4,
 "nbformat_minor": 2
}