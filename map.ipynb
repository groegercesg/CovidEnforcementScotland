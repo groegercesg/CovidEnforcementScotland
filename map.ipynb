{
 "cells": [
  {
   "cell_type": "code",
   "execution_count": 20,
   "metadata": {},
   "outputs": [],
   "source": [
    "# General\n",
    "import numpy\n",
    "import os\n",
    "\n",
    "# Processing\n",
    "import pandas as pd\n",
    "\n",
    "# Drawing\n",
    "import cartopy\n",
    "import matplotlib.pyplot as plt\n",
    "import cartopy.crs as ccrs\n",
    "from cartopy.io import shapereader\n",
    "from matplotlib.cm import get_cmap\n",
    "import matplotlib.cm as cm\n",
    "import matplotlib.colors as colors\n",
    "from mpl_toolkits.axes_grid1 import make_axes_locatable\n",
    "\n",
    "#%matplotlib widget\n",
    "#import ipympl"
   ]
  },
  {
   "cell_type": "code",
   "execution_count": 21,
   "metadata": {},
   "outputs": [],
   "source": [
    "# Data from: https://www.scotland.police.uk/about-us/covid-19-police-scotland-response/enforcement-and-response-data/\n",
    "\n",
    "raw_data = pd.read_excel(os.path.join(os.getcwd(), 'datasets', 'coronavirus-enforcement-information-to-9-june-2021.xlsx'), sheet_name=1)\n",
    "raw_data.drop(['Unnamed: 9', 'Unnamed: 10', 'Unnamed: 11', 'Unnamed: 12', 'Unnamed: 13', 'Unnamed: 14', 'Unnamed: 15', 'Unnamed: 16', 'Unnamed: 17'], axis=1, inplace=True)"
   ]
  },
  {
   "cell_type": "code",
   "execution_count": 22,
   "metadata": {},
   "outputs": [],
   "source": [
    "# Taking account of NaNs\n",
    "# Explanation:\n",
    "# The xlsx to pandas dataframe conversion seems to have taken \"NA\" for a division \"N\" and an Area Command \"Inverness\"\n",
    "# and interpret that \"NA\" as actually: \"NaN\". Which is very annoying. So the below overwrites the SD letter of area commands\n",
    "# that are inverness and turns them back to \"NA\"\n",
    "raw_data.loc[raw_data[\"Area Commands\"] == \"Inverness\", \"SD Letter\"] = raw_data[\"SD Letter\"].fillna(\"NA\")"
   ]
  },
  {
   "cell_type": "code",
   "execution_count": 23,
   "metadata": {},
   "outputs": [],
   "source": [
    "if (raw_data.isnull().sum().sum() != 0):\n",
    "    raise ValueError(\"We have NaNs in our dataframe\")\n"
   ]
  },
  {
   "cell_type": "code",
   "execution_count": 24,
   "metadata": {},
   "outputs": [],
   "source": [
    "division_grouped = raw_data.groupby('Division Letter', as_index=False\n",
    "                                ).agg(\n",
    "                                {\"Asked / Informed\": \"sum\",\n",
    "                                \"Warned / Instructed\": \"sum\",\n",
    "                                \"Removed from Place or Premises\": \"sum\",\n",
    "                                \"FPN\": \"sum\",\n",
    "                                \"Arrested\": \"sum\",\n",
    "                                })"
   ]
  },
  {
   "cell_type": "code",
   "execution_count": 25,
   "metadata": {},
   "outputs": [],
   "source": [
    "# Data from: https://www.nrscotland.gov.uk/statistics-and-data/statistics/statistics-by-theme/population/population-estimates/mid-year-population-estimates/mid-2019\n",
    "\n",
    "raw_pop_data = pd.read_csv(os.path.join(os.getcwd(), 'datasets', 'Population', 'mid-year-pop-est-19-data_Table 2.csv'))\n",
    "# Keep only the specific columns\n",
    "raw_pop_data = raw_pop_data[['Unnamed: 1','Unnamed: 2']]\n",
    "# Rename them inplace\n",
    "raw_pop_data.rename(columns={'Unnamed: 1': 'Council areas', 'Unnamed: 2': 'Population'}, inplace=True)\n",
    "# Drop upper rows that are bad\n",
    "raw_pop_data = raw_pop_data.drop(raw_pop_data.index[[0,1,2,3,4]]).reset_index(drop=True)\n",
    "# Drop from certain row, minus 1 for the row above position\n",
    "raw_pop_data = raw_pop_data[:(raw_pop_data[raw_pop_data['Council areas'] == 'NHS Board areas'].index[0] - 1)]\n",
    "# Strip out all the commas in Objects of the Population column\n",
    "raw_pop_data[\"Population\"].replace(',','', regex=True, inplace=True)\n",
    "# Convert string to int\n",
    "raw_pop_data[\"Population\"] = raw_pop_data[\"Population\"].astype(str).astype(int)"
   ]
  },
  {
   "cell_type": "code",
   "execution_count": 26,
   "metadata": {},
   "outputs": [],
   "source": [
    "# We group the council areas into our police divisions\n",
    "# First, set our index\n",
    "raw_pop_data.set_index('Council areas')\n",
    "# Create our division dictionary\n",
    "div_dict = {'A': [\"Moray\", \"Aberdeenshire\", \"Aberdeen City\"],\n",
    "            'C': [\"Stirling\", \"Clackmannanshire\", \"Falkirk\"],\n",
    "            'D': [\"Angus\", \"Dundee City\", \"Perth and Kinross\"],\n",
    "            'E': [\"City of Edinburgh\"],\n",
    "            'G': [\"East Renfrewshire\", \"Glasgow City\", \"East Dunbartonshire\"],\n",
    "            'J': [\"Scottish Borders\", \"East Lothian\", \"Midlothian\", \"West Lothian\"],\n",
    "            'K': [\"Inverclyde\", \"Renfrewshire\"],\n",
    "            'L': [\"Argyll and Bute\", \"West Dunbartonshire\"],\n",
    "            'N': [\"Na h-Eileanan Siar\", \"Orkney Islands\", \"Highland\", \"Shetland Islands\"],\n",
    "            'P': [\"Fife\"],\n",
    "            'Q': [\"South Lanarkshire\", \"North Lanarkshire\"],\n",
    "            'U': [\"South Ayrshire\", \"East Ayrshire\", \"North Ayrshire\"],\n",
    "            'V': [\"Dumfries and Galloway\"]\n",
    "            }\n",
    "\n",
    "div_pop = {}\n",
    "\n",
    "def divisionPopulation(row):\n",
    "    incomingRow = row.tolist()\n",
    "    #print(incomingRow)\n",
    "\n",
    "    for div, councils in div_dict.items():\n",
    "        for council in councils:\n",
    "            if (council == incomingRow[0]):\n",
    "                #print(div)\n",
    "                if div in div_pop:\n",
    "                    div_pop[div] += incomingRow[1]\n",
    "                else:\n",
    "                    div_pop[div] = incomingRow[1]\n",
    "\n",
    "raw_pop_data.apply(lambda row: divisionPopulation(row), axis=1)\n",
    "\n",
    "div_pop_data = pd.DataFrame(div_pop.items(), columns=['Division Letter', 'Population'])"
   ]
  },
  {
   "cell_type": "code",
   "execution_count": 27,
   "metadata": {},
   "outputs": [],
   "source": [
    "division_data = pd.merge(division_grouped, div_pop_data, on='Division Letter')\n",
    "\n",
    "division_data['Asked / Informed per 100k'] = division_data.apply (lambda row: row['Asked / Informed']/(row['Population'] / 100000) if row['Population'] > 0 else 0, axis=1)\n",
    "division_data['Warned / Instructed per 100k'] = division_data.apply (lambda row: row['Warned / Instructed']/(row['Population'] / 100000) if row['Population'] > 0 else 0, axis=1)\n",
    "division_data['Removed from Place or Premises per 100k'] = division_data.apply (lambda row: row['Removed from Place or Premises']/(row['Population'] / 100000) if row['Population'] > 0 else 0, axis=1)\n",
    "division_data['FPN per 100k'] = division_data.apply (lambda row: row['FPN']/(row['Population'] / 100000) if row['Population'] > 0 else 0, axis=1)\n",
    "division_data['Arrested per 100k'] = division_data.apply (lambda row: row['Arrested']/(row['Population'] / 100000) if row['Population'] > 0 else 0, axis=1)"
   ]
  },
  {
   "cell_type": "code",
   "execution_count": 28,
   "metadata": {},
   "outputs": [],
   "source": [
    "# Creating new figure and axes instances\n",
    "def enforcementOutcome(outcome_type):\n",
    "    fig = plt.figure(figsize=(6,8), dpi=100)\n",
    "    projectionPARAM = ccrs.TransverseMercator(central_longitude=-2.0, central_latitude=49.0, false_easting=400000.0, false_northing=-100000.0, scale_factor=0.9996012717, approx=False)\n",
    "    ax = fig.add_subplot(1, 1, 1, projection=projectionPARAM)\n",
    "    ax.set_extent([-8, 0, 54.5, 61]) # Ideal coordinate map range for plotting Scotland\n",
    "\n",
    "    police_dict = (division_data[['Division Letter', outcome_type]].set_index('Division Letter').T.to_dict('r'))[0]\n",
    "\n",
    "    # Downloaded from: https://spatialdata.gov.scot/geonetwork/srv/eng/catalog.search;jsessionid=61F713CF39B3EE2F440F48E9C31BA806#/metadata/4364af71-167a-4236-b5a0-bd4109913231\n",
    "    area_file = os.path.join(os.getcwd(), 'datasets', 'ScottishPoliceDivisions', 'SG_ScottishPoliceDivisions_2019.shp')\n",
    "    police_divisions = shapereader.Reader(area_file)\n",
    "\n",
    "    norm = colors.Normalize(vmin=0., vmax=max(police_dict.values()))\n",
    "    cmap = get_cmap('PuBu')\n",
    "\n",
    "    for record in police_divisions.records():\n",
    "        code = record.attributes['AdminCode']\n",
    "        police_entry = police_dict.get(code, -1)\n",
    "        if police_entry == -1:\n",
    "            police_color = \"Silver\"\n",
    "        else:\n",
    "            police_color = cmap(police_entry/max(police_dict.values()))\n",
    "        ax.add_geometries(\n",
    "                [record.geometry],\n",
    "                #facecolor=numpy.random.rand(3,),\n",
    "                facecolor=police_color,\n",
    "                linewidth=0,\n",
    "                crs=projectionPARAM,\n",
    "        )\n",
    "\n",
    "    # following https://matplotlib.org/2.0.2/mpl_toolkits/axes_grid/users/overview.html#colorbar-whose-height-or-width-in-sync-with-the-master-axes\n",
    "    # we need to set axes_class=plt.Axes, else it attempts to create\n",
    "    # a GeoAxes as colorbar\n",
    "\n",
    "    divider = make_axes_locatable(ax)\n",
    "    ax_cb = divider.new_horizontal(size=\"5%\", pad=0.1, axes_class=plt.Axes)\n",
    "\n",
    "    fig.add_axes(ax_cb)\n",
    "\n",
    "    sm = plt.cm.ScalarMappable(norm=norm, cmap=cmap)\n",
    "    cb = plt.colorbar(sm, cax=ax_cb)\n",
    "    cb.set_label(outcome_type + \" of Population\")\n",
    "\n",
    "    plt.plot()\n",
    "\n",
    "###\n",
    "# Copyright Scottish Government, contains Ordnance Survey data © Crown copyright and database right (2021)\n",
    "###"
   ]
  },
  {
   "cell_type": "code",
   "execution_count": 29,
   "metadata": {},
   "outputs": [],
   "source": [
    "import ipywidgets as widgets\n",
    "from IPython.display import display\n",
    "\n",
    "'''\n",
    "Dropdown(\n",
    "    options=[1, 2, 3, 4, 5, 6, 7, 8, 9, 10],\n",
    "    value=2,\n",
    ")\n",
    "'''\n",
    "\n",
    "options_list = ['FPN per 100k', 'Arrested per 100k', 'Subtraction', 'Division']\n",
    "def function(option):\n",
    "    print(option)\n",
    "\n",
    "\n",
    "w = widgets.Dropdown(\n",
    "    options=options_list,\n",
    "    value=options_list[1],\n",
    "    description='Enforcement:',\n",
    "    disabled=False\n",
    ")\n",
    "\n",
    "w.observe(\n",
    "    lambda c: enforcementOutcome(c['new']) if (c['type'] == 'change' and c['name'] == 'value') else None\n",
    ")\n",
    "\n",
    "display(w)"
   ]
  },
  {
   "cell_type": "code",
   "execution_count": 30,
   "metadata": {},
   "outputs": [],
   "source": [
    "#enforcementOutcome('Arrested per 100k')"
   ]
  }
 ],
 "metadata": {
  "interpreter": {
   "hash": "767d51c1340bd893661ea55ea3124f6de3c7a262a8b4abca0554b478b1e2ff90"
  },
  "kernelspec": {
   "display_name": "Python 3.8.10 64-bit ('base': conda)",
   "name": "python3"
  },
  "language_info": {
   "codemirror_mode": {
    "name": "ipython",
    "version": 3
   },
   "file_extension": ".py",
   "mimetype": "text/x-python",
   "name": "python",
   "nbconvert_exporter": "python",
   "pygments_lexer": "ipython3",
   "version": "3.8.10"
  },
  "orig_nbformat": 4
 },
 "nbformat": 4,
 "nbformat_minor": 2
}